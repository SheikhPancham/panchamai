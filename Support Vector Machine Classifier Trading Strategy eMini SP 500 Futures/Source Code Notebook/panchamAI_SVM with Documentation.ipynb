{
 "cells": [
  {
   "cell_type": "markdown",
   "metadata": {},
   "source": [
    "## Support Vector Machine Intraday Trading Strategy eMini S&P500 Futures"
   ]
  },
  {
   "cell_type": "markdown",
   "metadata": {},
   "source": [
    "In the following steps, an Intraday Trading Strategy for the eMini S&P500 Futures is set up using a Machine Learning Support Vector Machine (SVM) Classifier Python framework. The SVM Classifier will apply a feature set of indicators to predict either a Buy, Sell or Hold signal for the next period.<br>\n",
    "A Support Vector Machine Classifier is a 'supervised' Machine Learning algorithm (method). 'Supervised' means that it is first trained on historical data (such as past financial market data) to learn which predictive factors influence a future outcome. Subsequently, the trained SVM Classifier is then applied to new or unseen data in an attempt to make predictions based on prior training.<br>\n",
    "Other supervised Machine Learning methods/algorithms include Deep Learning Neural Networks, XGBoost etc, trading strategies for which will be presented later.<br>\n",
    "There are also 'unsupervised' Machine Learning methods, where no training is required or done. Unsupervised ML is often studied in an attempt to group data into clusters based on common criteria, for example to identify similar assets to optimize portfolio allocation, or likely default candidates. K-Means Clustering is a popular unsupervised ML method and will also be presented later in the context of a trading strategy.<br>\n",
    "\n",
    "Key steps involved in creating the SVM Classifier intraday trading strategy are:\n",
    "\n",
    "1. Import the standard Python libraries and libraries for Machine Learning and Technical Indicators\n",
    "2. Fetch the historical intraday data for the eMini S&P500 Futures that will be used to train and test the SVM Classifier model (a model is defined as the encoding / programming of a trading strategy):\n",
    "    - 15-minute intraday (Open, High, Low, Close) Prices and (Up, Down) Volume from May 5, 2006 to May 5, 2020\n",
    "3. Establish the INPUT Feature Set of Technical Analysis Indicators\n",
    "4. Establish an OUTPUT Buy, Sell, Hold Signal to be predicted\n",
    "5. Initialize the Support Vector Machine Classifier model\n",
    "6. Split the historical data into two sets:\n",
    "    - one dataset to Train the SVM model and\n",
    "    - another Test dataset for the trained model to use to make predictions on.\n",
    "7. Train the SVM Classifier model\n",
    "8. Run the trained SVM Classifier model on the Test dataset to make predictions and to determine the prediction accuracy\n",
    "9. Compare the Market Return to the Trading Strategy Return\n",
    "10. Plot the results\n"
   ]
  },
  {
   "cell_type": "markdown",
   "metadata": {},
   "source": [
    "### Import Python Libraries\n",
    "1. The standard Python libraries are pandas, numpy and matplotlib\n",
    "2. Scikit-learn (sklearn) is an open source Python machine learning library that provides supervised and unsupervised learning algorithms such as SVM. \n",
    "It also provides various tools for model fitting, data preprocessing, model selection and evaluation, \n",
    "and many other utilities.\n",
    "3. TA-lib includes 150+ technical analysis indicators such as ADX, MACD, RSI, Stochastic, Bollinger Bands, etc. and is widely used by Python trading software developers who need to perform technical analysis of financial market data."
   ]
  },
  {
   "cell_type": "code",
   "execution_count": null,
   "metadata": {},
   "outputs": [],
   "source": [
    "# Python Support Vector Machine Classifier (Machine Learning) eMini SP500 Futures Trading Strategy\n",
    "# Copyright Sheikh Pancham January 2020 sheikh.pancham@gmail.com\n",
    "\n",
    "# Maximize Jupyter Notebook Display\n",
    "from IPython.core.display import display, HTML\n",
    "display(HTML(\"<style>.container { width:100% !important; }</style>\"))\n",
    "\n",
    "# Import the standard libraries\n",
    "import pandas as pd\n",
    "import numpy as np\n",
    "import matplotlib.pyplot as plt\n",
    "from sklearn.svm import SVC # import SVC class which will be used to instantiate a support vector classifier.\n",
    "from sklearn.preprocessing import scale # import scale to scale feature set\n",
    "import talib as ta"
   ]
  },
  {
   "cell_type": "markdown",
   "metadata": {},
   "source": [
    "### Object-Oriented Programming (OOP) Approach\n",
    "An Object-Oriented Programming approach (OOP) is taken here. First, an SVCTradingStrategy class is defined. Then required class methods are developed to get the data, prepare the input feature set, establish the output signal, split the data into separate training and test datasets, initialize the SVM classifier model, train the model using the train dataset , run the prediction on the test dataset, evaluate the strategy performance, and finally plot the results. \n",
    "\n",
    "The data used to develop this trading strategy is the eMini S&P500 Futures 15-minute intraday data from May 6, 2006 to May 6, 2019. This is the 15-minute intraday data from the official S&P500 Futures exchange (i.e. 8:30am - 3:30pm on the Chicago Mercantile Exchange (CME)). The contract used is the Continuous eMini S&P500 Futures contract which means the contract is automatically rolled. \n",
    "\n",
    "The data is read straight into a pandas dataframe, df, from a csv file using pandas.read_csv(). \n",
    "The data columns are Date, Time, Open, High, Low, Close, Up Volume, Down Volume. A datetime index is created from Date and Time."
   ]
  },
  {
   "cell_type": "code",
   "execution_count": null,
   "metadata": {},
   "outputs": [],
   "source": [
    "class SVCTradingStrategy():\n",
    "    \n",
    "    def __getData__(self):\n",
    "        # Retrieve historical intraday data for USD eMini SP500 Futures\n",
    "        csv_file ='es.d.15m.15yrs.exchange.csv'\n",
    "        self.df = pd.read_csv(csv_file, parse_dates=[['Date', 'Time']])\n",
    "        self.df.index = pd.to_datetime(self.df['Date_Time'])\n",
    "        print(self.df.head())"
   ]
  },
  {
   "cell_type": "markdown",
   "metadata": {},
   "source": [
    "## The Signal (Buy, Sell, Hold)\n",
    "In any trading strategy, the most recent data and also historical price data in hand are used to predict what to do in the next period, that is, whether to Buy, Sell, or Hold (BSH). For instance, if you are developing a daily trading strategy, the Open, High, Low, Close and Volume (OHLCV) at the end of the current day (and previous daily data) are used to determine whether you should Buy, Sell, or Hold at the Open of the next day.<br>\n",
    "Similarly, in a 15-minute intraday trading strategy, the OHLCV of the 15-minute period/bar just ended (and all previous price data) is used to determine whether to BSH at the Open of the next 15-minute period/bar. The code is the same, only the input data for the trading timeframe is different.<br>\n",
    "The Machine Learning SVM Classification strategy, therefore, has to be trained to use the current and historical (OHLCV) data to predict the next period return. The next period Market Return is calculated. These are 15-minute market returns. This will be used to determine the signal (BSH) that we want to predict.<br>\n",
    "The Signal that the ML strategy needs to predict has three classifications - Buy, Sell, Hold. If the next period Market Return we are training on is greater than zero, then the Signal is 1, which will be to Buy. If the next period Market Return is less than zero, then the Signal is -1, which will be to Sell. Otherwise, the Signal is zero, which is do nothing or Hold.<br>\n",
    "Technically, we use the next period LOG return. And the Signal will be executed on the next Open.<br>\n",
    "New columns for 'MarketReturn' and 'Signal' are created in the dataframe."
   ]
  },
  {
   "cell_type": "code",
   "execution_count": null,
   "metadata": {},
   "outputs": [],
   "source": [
    "    def __calculateMarketReturn__(self):\n",
    "        self.df['MarketReturn'] = np.log(self.df['Open'].shift(-2)/self.df['Open'].shift(-1)) \n",
    "    \n",
    "    def __setSignal__(self):\n",
    "        self.df['Signal'] = 0\n",
    "        self.df.loc[self.df['MarketReturn'] > 0, 'Signal'] = 1\n",
    "        self.df.loc[self.df['MarketReturn'] < 0, 'Signal'] = -1"
   ]
  },
  {
   "cell_type": "markdown",
   "metadata": {},
   "source": [
    "## Preparing the Feature Set\n",
    "Now the Feature Set has to be prepared. In Machine Learning (ML), the Feature Set of input data is used to determine the output Signal or Classification. This is similar to how we talk about the set of explanatory X variables in regression analysis that is used to predict the Y output.<br>\n",
    "The raw feature set data coming in from the CME exchange is the 15-minute intraday Date, Time, Open, High, Low, Close, Up Volume, and Down Volume. This is a sufficient feature set to explore for creating a trading strategy.<br>\n",
    "However, just for fun we can add some algorithmic and statistical flavor by including a few Technical Indicators from the TA library. You can research and add your own Technical Indicators from the TA library here. To see how this is done, The following technical indicators are added to the feature set:<br>\n",
    "__RSI__: The Relative Strength Index (RSI) is a momentum indicator used in technical analysis that measures the magnitude of recent price changes to evaluate overbought or oversold conditions in the price of an asset.<br>\n",
    "__SMA__: A Simple Moving Average (SMA) is an arithmetic moving average calculated by adding recent prices and then dividing that by the number of time periods in the calculation average.<br>\n",
    "__CORR__: Pearson's correlation coefficient measures the strength and direction of the relationship between two variables, in this case, the time series of Closing prices.<br>\n",
    "__LINEARREG_SLOPE__: Linear Regression Slope<br>\n",
    "__STDDEV__: Standard Deviation to capture Volatility of Market Returns.\n",
    "If desired the OHLC prices can be dropped from the Feature Set, and only the Technical Indicators derived from the OHLC prices can be used."
   ]
  },
  {
   "cell_type": "code",
   "execution_count": null,
   "metadata": {},
   "outputs": [],
   "source": [
    "    def _prepareFeatureSet_(self):\n",
    "        self.__calculateMarketReturn__()\n",
    "        self.__setSignal__()\n",
    "        self.df = self.df.dropna()\n",
    "        \n",
    "        m = 10\n",
    "        self.df['SMA'] = ta.SMA(np.array(self.df['Close']), timeperiod=m)\n",
    "        self.df = self.df.dropna()\n",
    "        self.df['CORREL'] = ta.CORREL(np.array(self.df['High']), np.array(self.df['Low']), timeperiod=m)\n",
    "        self.df = self.df.dropna()\n",
    "        \n",
    "        self.df.loc[self.df['CORREL'] > 1, 'CORREL'] = 1\n",
    "        self.df.loc[self.df['CORREL'] < -1, 'CORREL'] = -1\n",
    "    \n",
    "        self.df['LINEARREG_SLOPE'] = ta.LINEARREG_SLOPE(np.array(self.df['Close'].shift(2)), timeperiod=20)\n",
    "        self.df = self.df.dropna()\n",
    "        \n",
    "        self.df['MOM'] = ta.MOM(np.array(self.df['Close']), timeperiod=m)\n",
    "        self.df = self.df.dropna()\n",
    "        \n",
    "        self.df['STDDEV'] = ta.STDDEV(np.array(self.df['Close']), timeperiod=m, nbdev=1)\n",
    "        self.df = self.df.dropna()\n",
    "        \n",
    "        self.df['RSI'] = ta.RSI(np.array(self.df['Close'].shift(3)), timeperiod=m)\n",
    "        self.df = self.df.dropna()\n",
    "        \n",
    "        self.df['SAR'] = ta.SAR(np.array(self.df['High'].shift(1)), np.array(self.df['Low'].shift(1)), acceleration=0.2, maximum=0.2)\n",
    "        self.df = self.df.dropna()\n",
    "        \n",
    "        self.df['ADX'] = ta.ADX(np.array(self.df['High'].shift(1)), np.array(self.df['Low'].shift(1)), np.array(self.df['Open']), timeperiod=m)\n",
    "        self.df = self.df.dropna()\n",
    "        \n",
    "        # Use the returns for the last 20 15-minute intervals\n",
    "        n = 20\n",
    "        for i in range(1, n):\n",
    "            self.df['MarketReturn%i' % i] = self.df['MarketReturn'].shift(i)\n",
    "        \n",
    "        self.df = self.df.dropna()\n",
    "#         self.X = self.df.drop(['Date_Time','MarketReturn','Signal'], axis=1)\n",
    "        self.X = self.df.drop(['Date_Time','Open','Close','High','Low','MarketReturn','Signal'], axis=1)\n",
    "        self.Y = self.df['Signal']"
   ]
  },
  {
   "cell_type": "markdown",
   "metadata": {},
   "source": [
    "## Scaling and Splitting the Train and Test Datasets\n",
    "The feature dataset (OHLCV, RSI, SMA, etc) contains features varying in magnitudes, units and range. If left alone, the Machine Learning algorithm only takes in the magnitude of features neglecting the units. The results would vary greatly between different units. The features with high magnitudes will weigh in a lot more  than features with low magnitudes. To supress this effect, we need to bring all features to the same level of magnitudes. This can be achieved by scaling. The scale() function from the sklearn library is used to perform scaling on the feature dataset. <br>\n",
    "Next, the data for the Feature Set then has to be split into a training dataset and a test dataset. Usually, data scientists would simply use Python train_test_split() to split the data into the first 80% to be used for training \n",
    "the ML model and the remaining 20% of data to be used to test the model that was trained. <br> \n",
    "Here though, we give the data scientist the flexibility of partitioning the training dataset and test dataset. For instance, they may want to assess how a ML model trained during the Credit Crisis (2006-2010) would perform during the Trump years (2016-  ), or how a ML model trained prior to the Covid-19 Pandemic would perform during the Pandemic months.<br>\n",
    "Hence, there are customizable begin and end dates for the training dataset, and customizable begin and end dates for the test dataset."
   ]
  },
  {
   "cell_type": "code",
   "execution_count": null,
   "metadata": {},
   "outputs": [],
   "source": [
    "    def _Scale_Train_Test_Split_(self):\n",
    "#         Scale and Split Train and Test Data Sets\n",
    "        self.begintraindt = '2019-11-22'\n",
    "        self.endtraindt = '2020-04-03'\n",
    "        self.begintestdt ='2020-04-03'\n",
    "        self.endtestdt = '2020-05-06'      \n",
    "        self.X_scaled = pd.DataFrame(scale(self.X), columns=self.X.columns, index=self.df.index)\n",
    "        self.X_train = pd.DataFrame(self.X_scaled.loc[self.begintraindt : self.endtraindt], columns=self.X_scaled.columns)\n",
    "        self.Y_train = self.Y[self.begintraindt : self.endtraindt]\n",
    "        self.X_test = pd.DataFrame(self.X_scaled.loc[self.begintestdt : self.endtestdt], columns=self.X_scaled.columns)\n",
    "        self.Y_test = self.Y[self.begintestdt : self.endtestdt]"
   ]
  },
  {
   "cell_type": "markdown",
   "metadata": {},
   "source": [
    "## Instantiate and Train the Support Vector Machine Classifier\n",
    "We first instantiate the SVM Classifier model providing it with its hyperparameters (C, gamma, kernel). In a Machine Learning model a number of \n",
    "parameters are learned from the model during training. However, there are some parameters, known as hyperparameters that cannot be directly learned. \n",
    "The hyperparameters must be provided by the data scientist commonly chosen based on some intuition or trial before the actual training begins. \n",
    "There are also ways to find the optimal hyperparameters before the actual training begins.  But we shall take up that task in a later discussion.<br>\n",
    "The hyperparameters for a SVM Classifier model are c, gamma, kernel. The inputs used here SVC(C=1000, gamma='auto', kernel='rbf'). <br>\n",
    "Click here for the definitions and an interesting study on SVM hyperparameters.<br>\n",
    "The SVM Classifier model is then trained on the training dataset set selected by the data scientist, and the training accuracy recorded. For SVM, the training\n",
    "accuracy should be at least 80% accurate. Incidentally, in sklearn the training exercise is called 'fitting' the training set."
   ]
  },
  {
   "cell_type": "code",
   "execution_count": null,
   "metadata": {},
   "outputs": [],
   "source": [
    "    def _fitCLS_(self):\n",
    "        self.cls = 0\n",
    "        self.cls = SVC(C=1000, gamma='auto', kernel='rbf')\n",
    "        self.cls.fit(self.X_train, self.Y_train)\n",
    "        self.train_accuracy = self.cls.score(self.X_train, self.Y_train)\n",
    "        print('SVC Train Accuracy = {:.4f}'.format(self.train_accuracy))"
   ]
  },
  {
   "cell_type": "markdown",
   "metadata": {},
   "source": [
    "## PREDICT: Run the trained SVM Classifier on the Test dataset to Predict the Signals\n",
    "Once the SVM Classifier has been trained on the training dataset, we are now ready to make predictions on the test dataset. To do so, we use sklearn predict() method. The trained SVM Classifier is run on the test feature dataset to predict the Signals (BSH).<br>\n",
    "Column 'PredictSignal' is created to save the predicted signals. The Prediction accuracy is calculated and for a good strategy model this should be above 80%. Less than 80% would not be a model with reliable predictive accuracy.<br>\n",
    "The data scientist can also run the SVM Classifier on the training data to have prediction signals for the entire dataset to see the whole picture. The prediction accuracy is of course expected to be better on the train dataset, since the model was trained on that, compared to the test dataset."
   ]
  },
  {
   "cell_type": "code",
   "execution_count": null,
   "metadata": {},
   "outputs": [],
   "source": [
    "    def _predictCLS_(self):\n",
    "        self.Y_predict = 0\n",
    "        self.Y_predict = self.cls.predict(self.X_test)\n",
    "        self.test_accuracy = self.cls.score(self.X_test, self.Y_test)\n",
    "        print('SVC Test Accuracy = {:.4f}'.format(self.test_accuracy))\n",
    "        self.df['PredictSignal'] = 0\n",
    "        self.df.loc[self.begintraindt : self.endtraindt, 'PredictSignal'] = self.cls.predict(self.X_train)\n",
    "        self.df.loc[self.begintestdt : self.endtestdt, 'PredictSignal'] = self.Y_predict"
   ]
  },
  {
   "cell_type": "markdown",
   "metadata": {},
   "source": [
    "## Compare the Strategy Return to the Market Return\n",
    "Recall this is an intraday 15-minute trading strategy so a BSH signal will be generated every\n",
    "every 15 mins during the market trading day. To evaluate the relative performance of the SVM trading strategy,\n",
    "the Cumulative Market Return is compared to the Cumulative Strategy Return over the period of\n",
    "test dataset only. <br>\n",
    "The 15-minute Market Return was calculated from before. Sum up all of the 15-minute returns over the \n",
    "test dataset period to get the Cumulative Market Return.\n",
    "To get the 15-minute Strategy Return, multiply the 15-minute Market Return by the Signal generated.<br>\n",
    "Then sum up all the 15-minute strategy returns over the test dataset period to get the Cumulative\n",
    "Strategy Return.<br>\n",
    "Plot the Cumulative Strategy Return VS the Cumulative Market Return. The Strategy Return is almost four times the \n",
    "Market Return and the Sharpe Ratio greater than 3 which are both highly desired outcomes. A Sharpe Ratio \n",
    "less than 2 is not encouraging. Still, however, this is not a recommended strategy and needs some work as the test\n",
    "accuracy on the test dataset is less than 70%."
   ]
  },
  {
   "cell_type": "code",
   "execution_count": 30,
   "metadata": {},
   "outputs": [
    {
     "data": {
      "text/html": [
       "<style>.container { width:100% !important; }</style>"
      ],
      "text/plain": [
       "<IPython.core.display.HTML object>"
      ]
     },
     "metadata": {},
     "output_type": "display_data"
    }
   ],
   "source": [
    "    def _calculateStrategyReturn_(self):\n",
    "        self.df['StrategyReturn'] = 0.0\n",
    "        self.df['StrategyReturn'] = self.df.loc[self.begintestdt : self.endtestdt, 'MarketReturn'] * self.df.loc[self.begintestdt : self.endtestdt, 'PredictSignal']\n",
    "        \n",
    "    def _calculateCumulativeMarketReturn_(self):\n",
    "        self.df['CumulativeMarketReturn'] = 0.0\n",
    "        self.df['CumulativeMarketReturn'] = np.cumsum(self.df.loc[self.begintestdt : self.endtestdt, 'MarketReturn'])\n",
    "        \n",
    "    def _calculateCumulativeStrategyReturn_(self):\n",
    "        self.df['CumulativeStrategyReturn'] = 0.0\n",
    "        self.df['CumulativeStrategyReturn'] = np.cumsum(self.df.loc[self.begintestdt : self.endtestdt, 'StrategyReturn'])\n",
    "        \n",
    "    def _plotCumulativeReturn_(self):\n",
    "        Stdv = np.std(self.df.loc[self.begintestdt : self.endtestdt, 'CumulativeStrategyReturn'])\n",
    "        print 'Stdv:', Stdv\n",
    "        Sharpe = (self.df['CumulativeStrategyReturn'].iloc[-1] - self.df['CumulativeMarketReturn'].iloc[-1]) / Stdv\n",
    "        print 'Sharpe Ratio:', Sharpe\n",
    "        print 'Strategy Return:', self.df['CumulativeStrategyReturn'].iloc[-1]\n",
    "        print 'Market Return:', self.df['CumulativeMarketReturn'].iloc[-1]\n",
    "        plt.plot(self.df['CumulativeStrategyReturn'], color='g', label='Strategy Return')\n",
    "        plt.plot(self.df['CumulativeMarketReturn'], color='b', label='Market Return')\n",
    "        plt.legend(loc='best')\n",
    "        plt.title(str(' SVC Strategy Return ('+self.begintestdt+' - '+self.endtestdt+')'))\n",
    "        plt.ylabel('Cumulative Return')\n",
    "        plt.grid()\n",
    "        plt.show()\n",
    "        \n",
    "    def calculateSVCStrategyReturn(self):\n",
    "        self.__getData__()\n",
    "        self._prepareFeatureSet_()\n",
    "        self._Scale_Train_Test_Split_()\n",
    "        self._fitCLS_()\n",
    "        self._predictCLS_()\n",
    "        self._calculateStrategyReturn_()\n",
    "        self._calculateCumulativeMarketReturn_()\n",
    "        self._calculateCumulativeStrategyReturn_()\n",
    "        self._plotCumulativeReturn_()"
   ]
  },
  {
   "cell_type": "code",
   "execution_count": 31,
   "metadata": {},
   "outputs": [
    {
     "name": "stdout",
     "output_type": "stream",
     "text": [
      "                              Date_Time     Open     High      Low    Close  \\\n",
      "Date_Time                                                                     \n",
      "2005-05-06 08:45:00 2005-05-06 08:45:00  1118.50  1118.75  1116.00  1117.25   \n",
      "2005-05-06 09:00:00 2005-05-06 09:00:00  1117.25  1118.75  1115.25  1117.25   \n",
      "2005-05-06 09:15:00 2005-05-06 09:15:00  1117.25  1118.00  1113.75  1114.75   \n",
      "2005-05-06 09:30:00 2005-05-06 09:30:00  1114.75  1117.25  1114.25  1116.50   \n",
      "2005-05-06 09:45:00 2005-05-06 09:45:00  1116.75  1117.75  1115.00  1115.25   \n",
      "\n",
      "                        Up   Down  \n",
      "Date_Time                          \n",
      "2005-05-06 08:45:00  23504  31838  \n",
      "2005-05-06 09:00:00  24471  25606  \n",
      "2005-05-06 09:15:00  22001  31117  \n",
      "2005-05-06 09:30:00  24035  18834  \n",
      "2005-05-06 09:45:00  11634  15385  \n",
      "SVC Train Accuracy = 0.9766\n",
      "SVC Test Accuracy = 0.5444\n",
      "Stdv: 0.0964695453047\n",
      "Sharpe Ratio: 3.1026818906\n",
      "Strategy Return: 0.417482578204\n",
      "Market Return: 0.118168266993\n"
     ]
    },
    {
     "data": {
      "image/png": "[encoded data removed]",
      "text/plain": [
       "<matplotlib.figure.Figure at 0x1a135d5c90>"
      ]
     },
     "metadata": {},
     "output_type": "display_data"
    }
   ],
   "source": [
    "svc = SVCTradingStrategy()\n",
    "svc.calculateSVCStrategyReturn()"
   ]
  },
  {
   "cell_type": "markdown",
   "metadata": {},
   "source": [
    "## Explore the SVM Classifier Trading Strategy further\n",
    "This Support Vector Machine Classifier trading strategy can be explored further in many ways:<br>\n",
    "1. Experiment with your own Technical Analysis Indicators from the TA library or create your own.\n",
    "2. Try it on different datasets for Stocks, FX, other Futures and Commodities etc.\n",
    "3. Try it on different timeframes, e.g. Daily, Monthly etc.<br>\n",
    "4. Try out different values for the SVM hyperparameters c and gamma.\n",
    "\n",
    "Coming up, we shall implement Deep Learning Neural Networks and XGBoost Trading Strategies.<br>\n",
    "And discuss further the Tuning of Hyperparameters.<br>"
   ]
  },
  {
   "cell_type": "code",
   "execution_count": null,
   "metadata": {},
   "outputs": [],
   "source": []
  }
 ],
 "metadata": {
  "kernelspec": {
   "display_name": "Python 3",
   "language": "python",
   "name": "python3"
  },
  "language_info": {
   "codemirror_mode": {
    "name": "ipython",
    "version": 3
   },
   "file_extension": ".py",
   "mimetype": "text/x-python",
   "name": "python",
   "nbconvert_exporter": "python",
   "pygments_lexer": "ipython3",
   "version": "3.8.3"
  }
 },
 "nbformat": 4,
 "nbformat_minor": 2
}
